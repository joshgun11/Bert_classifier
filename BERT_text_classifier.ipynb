{
 "cells": [
  {
   "cell_type": "code",
   "execution_count": null,
   "metadata": {
    "_cell_guid": "b1076dfc-b9ad-4769-8c92-a6c4dae69d19",
    "_uuid": "8f2839f25d086af736a60e9eeb907d3b93b6e0e5"
   },
   "outputs": [],
   "source": [
    "# This Python 3 environment comes with many helpful analytics libraries installed\n",
    "# It is defined by the kaggle/python Docker image: https://github.com/kaggle/docker-python\n",
    "# For example, here's several helpful packages to load\n",
    "\n",
    "import numpy as np # linear algebra\n",
    "import pandas as pd # data processing, CSV file I/O (e.g. pd.read_csv)\n",
    "\n",
    "# Input data files are available in the read-only \"../input/\" directory\n",
    "# For example, running this (by clicking run or pressing Shift+Enter) will list all files under the input directory\n",
    "\n",
    "import os\n",
    "for dirname, _, filenames in os.walk('/kaggle/input'):\n",
    "    for filename in filenames:\n",
    "        print(os.path.join(dirname, filename))\n",
    "\n",
    "# You can write up to 20GB to the current directory (/kaggle/working/) that gets preserved as output when you create a version using \"Save & Run All\" \n",
    "# You can also write temporary files to /kaggle/temp/, but they won't be saved outside of the current session"
   ]
  },
  {
   "cell_type": "code",
   "execution_count": 1,
   "metadata": {
    "execution": {
     "iopub.execute_input": "2022-06-02T21:19:21.031282Z",
     "iopub.status.busy": "2022-06-02T21:19:21.030331Z",
     "iopub.status.idle": "2022-06-02T21:19:24.691151Z",
     "shell.execute_reply": "2022-06-02T21:19:24.690258Z",
     "shell.execute_reply.started": "2022-06-02T21:19:21.031172Z"
    }
   },
   "outputs": [],
   "source": [
    "import tensorflow as tf\n",
    "import tensorflow_hub as hub\n",
    "import tensorflow_text as text\n",
    "import pandas as pd\n",
    "from keras.callbacks import EarlyStopping\n",
    "import re"
   ]
  },
  {
   "cell_type": "code",
   "execution_count": 4,
   "metadata": {
    "execution": {
     "iopub.execute_input": "2022-06-02T21:20:34.609714Z",
     "iopub.status.busy": "2022-06-02T21:20:34.609324Z",
     "iopub.status.idle": "2022-06-02T21:20:34.616217Z",
     "shell.execute_reply": "2022-06-02T21:20:34.615070Z",
     "shell.execute_reply.started": "2022-06-02T21:20:34.609684Z"
    }
   },
   "outputs": [],
   "source": [
    "def clean_text(x):\n",
    "    pattern = r'[^a-zA-z0-9\\s]'\n",
    "    \n",
    "    text = re.sub(pattern, '', x)\n",
    "    text = re.sub(r'[^\\w\\s]', '', text)\n",
    "    return text\n",
    "\n",
    "def clean_numbers(x):\n",
    "    if bool(re.search(r'\\d', x)):\n",
    "        x = re.sub('[0-9]{5,}', '#####', x)\n",
    "        x = re.sub('[0-9]**{4}**', '####', x)\n",
    "        x = re.sub('[0-9]**{3}**', '###', x)\n",
    "        x = re.sub('[0-9]**{2}**', '##', x)\n",
    "    return x"
   ]
  },
  {
   "cell_type": "code",
   "execution_count": 5,
   "metadata": {
    "execution": {
     "iopub.execute_input": "2022-06-02T21:20:50.369143Z",
     "iopub.status.busy": "2022-06-02T21:20:50.368769Z",
     "iopub.status.idle": "2022-06-02T21:20:50.406470Z",
     "shell.execute_reply": "2022-06-02T21:20:50.405415Z",
     "shell.execute_reply.started": "2022-06-02T21:20:50.369114Z"
    }
   },
   "outputs": [],
   "source": [
    "df_old.drop_duplicates(inplace = True)"
   ]
  },
  {
   "cell_type": "code",
   "execution_count": 30,
   "metadata": {
    "execution": {
     "iopub.execute_input": "2022-06-02T21:53:48.221679Z",
     "iopub.status.busy": "2022-06-02T21:53:48.220762Z",
     "iopub.status.idle": "2022-06-02T21:53:48.239999Z",
     "shell.execute_reply": "2022-06-02T21:53:48.239174Z",
     "shell.execute_reply.started": "2022-06-02T21:53:48.221632Z"
    }
   },
   "outputs": [],
   "source": [
    "cleaned_text = []\n",
    "for i in df_old[\"text\"]:\n",
    "    i = str(i)\n",
    "    cleaned_text.append(i)"
   ]
  },
  {
   "cell_type": "code",
   "execution_count": 32,
   "metadata": {
    "execution": {
     "iopub.execute_input": "2022-06-02T21:53:57.243166Z",
     "iopub.status.busy": "2022-06-02T21:53:57.242301Z",
     "iopub.status.idle": "2022-06-02T21:53:57.255072Z",
     "shell.execute_reply": "2022-06-02T21:53:57.254092Z",
     "shell.execute_reply.started": "2022-06-02T21:53:57.243117Z"
    }
   },
   "outputs": [],
   "source": [
    "from sklearn.model_selection import train_test_split\n",
    "X_train, X_test, y_train, y_test = train_test_split(df_old['text'],df_old['label'], test_size = 0.2,random_state = 43)"
   ]
  },
  {
   "cell_type": "code",
   "execution_count": 33,
   "metadata": {
    "execution": {
     "iopub.execute_input": "2022-06-02T21:53:57.862310Z",
     "iopub.status.busy": "2022-06-02T21:53:57.861905Z",
     "iopub.status.idle": "2022-06-02T21:53:57.868304Z",
     "shell.execute_reply": "2022-06-02T21:53:57.867386Z",
     "shell.execute_reply.started": "2022-06-02T21:53:57.862270Z"
    }
   },
   "outputs": [],
   "source": [
    "from sklearn import preprocessing\n",
    "def prepare_targets(y_train, y_test):\n",
    "    le = preprocessing.LabelEncoder()\n",
    "\n",
    "    le.fit(y_train)\n",
    "    y_train_enc = le.transform(y_train)\n",
    "    y_test_enc = le.transform(y_test)\n",
    "    return y_train_enc, y_test_enc"
   ]
  },
  {
   "cell_type": "code",
   "execution_count": 34,
   "metadata": {
    "execution": {
     "iopub.execute_input": "2022-06-02T21:53:58.842537Z",
     "iopub.status.busy": "2022-06-02T21:53:58.839723Z",
     "iopub.status.idle": "2022-06-02T21:53:58.858710Z",
     "shell.execute_reply": "2022-06-02T21:53:58.857870Z",
     "shell.execute_reply.started": "2022-06-02T21:53:58.842486Z"
    }
   },
   "outputs": [],
   "source": [
    "y_train,y_test = prepare_targets(y_train, y_test)\n",
    "y_train_enc = tf.one_hot(y_train, 6) \n",
    "y_test_enc = tf.one_hot(y_test, 6)\n"
   ]
  },
  {
   "cell_type": "code",
   "execution_count": 46,
   "metadata": {
    "execution": {
     "iopub.execute_input": "2022-06-02T22:06:14.331151Z",
     "iopub.status.busy": "2022-06-02T22:06:14.330583Z",
     "iopub.status.idle": "2022-06-02T22:07:22.855314Z",
     "shell.execute_reply": "2022-06-02T22:07:22.854424Z",
     "shell.execute_reply.started": "2022-06-02T22:06:14.331103Z"
    }
   },
   "outputs": [],
   "source": [
    "bert_preprocess = hub.KerasLayer(\"https://tfhub.dev/tensorflow/bert_en_uncased_preprocess/3\")\n",
    "bert_encoder = hub.KerasLayer(\"https://tfhub.dev/tensorflow/bert_en_uncased_L-12_H-768_A-12/4\")"
   ]
  },
  {
   "cell_type": "code",
   "execution_count": 47,
   "metadata": {
    "execution": {
     "iopub.execute_input": "2022-06-02T22:07:51.504801Z",
     "iopub.status.busy": "2022-06-02T22:07:51.504074Z",
     "iopub.status.idle": "2022-06-02T22:07:51.511279Z",
     "shell.execute_reply": "2022-06-02T22:07:51.510267Z",
     "shell.execute_reply.started": "2022-06-02T22:07:51.504754Z"
    }
   },
   "outputs": [],
   "source": [
    "def build_classifier_model():\n",
    "    text_input = tf.keras.layers.Input(shape=(), dtype=tf.string, name='text')\n",
    "    #preprocessing_layer = hub.KerasLayer(bert_preprocess, name='preprocessing')\n",
    "    encoder_inputs = bert_preprocess(text_input)\n",
    "    #encoder = hub.KerasLayer(bert_encoder, trainable=True, name='BERT_encoder')\n",
    "    outputs = bert_encoder(encoder_inputs)\n",
    "    net = outputs['pooled_output']\n",
    "    net = tf.keras.layers.Dropout(0.1)(net)\n",
    "    net = tf.keras.layers.Dense(6, activation=\"Softmax\", name='classifier')(net)\n",
    "    return tf.keras.Model(text_input, net)"
   ]
  },
  {
   "cell_type": "code",
   "execution_count": 48,
   "metadata": {
    "execution": {
     "iopub.execute_input": "2022-06-02T22:07:54.583842Z",
     "iopub.status.busy": "2022-06-02T22:07:54.583455Z",
     "iopub.status.idle": "2022-06-02T22:07:54.588590Z",
     "shell.execute_reply": "2022-06-02T22:07:54.587445Z",
     "shell.execute_reply.started": "2022-06-02T22:07:54.583811Z"
    }
   },
   "outputs": [],
   "source": [
    "loss = \"categorical_crossentropy\"\n",
    "metrics = \"accuracy\""
   ]
  },
  {
   "cell_type": "code",
   "execution_count": 49,
   "metadata": {
    "execution": {
     "iopub.execute_input": "2022-06-02T22:07:55.737682Z",
     "iopub.status.busy": "2022-06-02T22:07:55.737074Z",
     "iopub.status.idle": "2022-06-02T22:07:56.022408Z",
     "shell.execute_reply": "2022-06-02T22:07:56.021530Z",
     "shell.execute_reply.started": "2022-06-02T22:07:55.737642Z"
    }
   },
   "outputs": [],
   "source": [
    "classifier_model = build_classifier_model()"
   ]
  },
  {
   "cell_type": "code",
   "execution_count": 50,
   "metadata": {
    "execution": {
     "iopub.execute_input": "2022-06-02T22:08:07.811185Z",
     "iopub.status.busy": "2022-06-02T22:08:07.810822Z",
     "iopub.status.idle": "2022-06-02T22:08:07.853092Z",
     "shell.execute_reply": "2022-06-02T22:08:07.852447Z",
     "shell.execute_reply.started": "2022-06-02T22:08:07.811155Z"
    }
   },
   "outputs": [
    {
     "name": "stdout",
     "output_type": "stream",
     "text": [
      "Model: \"model_3\"\n",
      "__________________________________________________________________________________________________\n",
      " Layer (type)                   Output Shape         Param #     Connected to                     \n",
      "==================================================================================================\n",
      " text (InputLayer)              [(None,)]            0           []                               \n",
      "                                                                                                  \n",
      " keras_layer_4 (KerasLayer)     {'input_mask': (Non  0           ['text[0][0]']                   \n",
      "                                e, 128),                                                          \n",
      "                                 'input_type_ids':                                                \n",
      "                                (None, 128),                                                      \n",
      "                                 'input_word_ids':                                                \n",
      "                                (None, 128)}                                                      \n",
      "                                                                                                  \n",
      " keras_layer_5 (KerasLayer)     {'sequence_output':  109482241   ['keras_layer_4[0][0]',          \n",
      "                                 (None, 128, 768),                'keras_layer_4[0][1]',          \n",
      "                                 'default': (None,                'keras_layer_4[0][2]']          \n",
      "                                768),                                                             \n",
      "                                 'encoder_outputs':                                               \n",
      "                                 [(None, 128, 768),                                               \n",
      "                                 (None, 128, 768),                                                \n",
      "                                 (None, 128, 768),                                                \n",
      "                                 (None, 128, 768),                                                \n",
      "                                 (None, 128, 768),                                                \n",
      "                                 (None, 128, 768),                                                \n",
      "                                 (None, 128, 768),                                                \n",
      "                                 (None, 128, 768),                                                \n",
      "                                 (None, 128, 768),                                                \n",
      "                                 (None, 128, 768),                                                \n",
      "                                 (None, 128, 768),                                                \n",
      "                                 (None, 128, 768)],                                               \n",
      "                                 'pooled_output': (                                               \n",
      "                                None, 768)}                                                       \n",
      "                                                                                                  \n",
      " dropout_1 (Dropout)            (None, 768)          0           ['keras_layer_5[0][13]']         \n",
      "                                                                                                  \n",
      " classifier (Dense)             (None, 6)            4614        ['dropout_1[0][0]']              \n",
      "                                                                                                  \n",
      "==================================================================================================\n",
      "Total params: 109,486,855\n",
      "Trainable params: 4,614\n",
      "Non-trainable params: 109,482,241\n",
      "__________________________________________________________________________________________________\n"
     ]
    }
   ],
   "source": [
    "classifier_model.summary()"
   ]
  },
  {
   "cell_type": "code",
   "execution_count": 51,
   "metadata": {
    "execution": {
     "iopub.execute_input": "2022-06-02T22:08:18.918722Z",
     "iopub.status.busy": "2022-06-02T22:08:18.918343Z",
     "iopub.status.idle": "2022-06-02T22:08:18.930698Z",
     "shell.execute_reply": "2022-06-02T22:08:18.929714Z",
     "shell.execute_reply.started": "2022-06-02T22:08:18.918690Z"
    }
   },
   "outputs": [],
   "source": [
    "epochs = 5\n",
    "optimizer = \"adam\"\n",
    "classifier_model.compile(optimizer=optimizer,\n",
    "                         loss=loss,\n",
    "                         metrics=metrics)"
   ]
  },
  {
   "cell_type": "code",
   "execution_count": 52,
   "metadata": {
    "execution": {
     "iopub.execute_input": "2022-06-02T22:08:19.742083Z",
     "iopub.status.busy": "2022-06-02T22:08:19.741714Z",
     "iopub.status.idle": "2022-06-02T22:08:20.015126Z",
     "shell.execute_reply": "2022-06-02T22:08:20.014110Z",
     "shell.execute_reply.started": "2022-06-02T22:08:19.742050Z"
    }
   },
   "outputs": [
    {
     "data": {
      "image/png": "[encoded data removed]",
      "text/plain": [
       "<IPython.core.display.Image object>"
      ]
     },
     "execution_count": 52,
     "metadata": {},
     "output_type": "execute_result"
    }
   ],
   "source": [
    "tf.keras.utils.plot_model(classifier_model)"
   ]
  },
  {
   "cell_type": "code",
   "execution_count": 53,
   "metadata": {
    "execution": {
     "iopub.execute_input": "2022-06-02T22:08:23.480094Z",
     "iopub.status.busy": "2022-06-02T22:08:23.479107Z",
     "iopub.status.idle": "2022-06-02T22:08:23.493778Z",
     "shell.execute_reply": "2022-06-02T22:08:23.492975Z",
     "shell.execute_reply.started": "2022-06-02T22:08:23.480048Z"
    }
   },
   "outputs": [],
   "source": [
    "classifier_model.compile(optimizer=optimizer,\n",
    "                         loss=loss,\n",
    "                         metrics=metrics)\n"
   ]
  },
  {
   "cell_type": "code",
   "execution_count": 54,
   "metadata": {
    "execution": {
     "iopub.execute_input": "2022-06-02T22:08:25.685476Z",
     "iopub.status.busy": "2022-06-02T22:08:25.684459Z",
     "iopub.status.idle": "2022-06-02T22:08:25.690735Z",
     "shell.execute_reply": "2022-06-02T22:08:25.689892Z",
     "shell.execute_reply.started": "2022-06-02T22:08:25.685428Z"
    }
   },
   "outputs": [],
   "source": [
    "callbacks = [EarlyStopping(monitor=\"val_loss\",patience=5,verbose=0,mode=\"auto\",restore_best_weights=True)]"
   ]
  },
  {
   "cell_type": "code",
   "execution_count": 55,
   "metadata": {
    "execution": {
     "iopub.execute_input": "2022-06-02T22:08:27.626102Z",
     "iopub.status.busy": "2022-06-02T22:08:27.625473Z",
     "iopub.status.idle": "2022-06-02T22:22:58.194141Z",
     "shell.execute_reply": "2022-06-02T22:22:58.193264Z",
     "shell.execute_reply.started": "2022-06-02T22:08:27.626056Z"
    }
   },
   "outputs": [
    {
     "name": "stdout",
     "output_type": "stream",
     "text": [
      "Epoch 1/5\n",
      "592/592 [==============================] - 179s 287ms/step - loss: 1.5781 - accuracy: 0.3518 - val_loss: 1.4812 - val_accuracy: 0.3919\n",
      "Epoch 2/5\n",
      "592/592 [==============================] - 168s 285ms/step - loss: 1.4728 - accuracy: 0.3995 - val_loss: 1.4173 - val_accuracy: 0.4293\n",
      "Epoch 3/5\n",
      "592/592 [==============================] - 169s 285ms/step - loss: 1.4231 - accuracy: 0.4243 - val_loss: 1.3677 - val_accuracy: 0.4439\n",
      "Epoch 4/5\n",
      "592/592 [==============================] - 169s 286ms/step - loss: 1.3943 - accuracy: 0.4359 - val_loss: 1.3481 - val_accuracy: 0.4502\n",
      "Epoch 5/5\n",
      "592/592 [==============================] - 169s 285ms/step - loss: 1.3796 - accuracy: 0.4437 - val_loss: 1.3292 - val_accuracy: 0.4551\n"
     ]
    }
   ],
   "source": [
    "history_bert = classifier_model.fit(X_train, y_train_enc,validation_data = (X_test,y_test_enc),epochs=epochs,callbacks = callbacks)"
   ]
  },
  {
   "cell_type": "code",
   "execution_count": null,
   "metadata": {},
   "outputs": [],
   "source": []
  }
 ],
 "metadata": {
  "kernelspec": {
   "display_name": "Python 3 (ipykernel)",
   "language": "python",
   "name": "python3"
  },
  "language_info": {
   "codemirror_mode": {
    "name": "ipython",
    "version": 3
   },
   "file_extension": ".py",
   "mimetype": "text/x-python",
   "name": "python",
   "nbconvert_exporter": "python",
   "pygments_lexer": "ipython3",
   "version": "3.9.7"
  }
 },
 "nbformat": 4,
 "nbformat_minor": 4
}
